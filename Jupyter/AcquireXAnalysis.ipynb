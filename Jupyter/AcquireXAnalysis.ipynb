{
 "cells": [
  {
   "cell_type": "markdown",
   "metadata": {},
   "source": [
    "## Introduction\n",
    "### AcquireX analysis scripts to evaluate feature distribution, feature mapping, background ion detection and other useful plots"
   ]
  },
  {
   "cell_type": "code",
   "execution_count": 1,
   "metadata": {
    "collapsed": true
   },
   "outputs": [],
   "source": [
    "# Load the packages/source scripts required to read XML files and process the data.\n",
    "library(XML)\n",
    "library(methods)\n",
    "library(data.table)\n",
    "source('AcquireXFunctions.R')"
   ]
  },
  {
   "cell_type": "markdown",
   "metadata": {},
   "source": [
    "### Load xml file and convert it to a data table in R"
   ]
  },
  {
   "cell_type": "code",
   "execution_count": 2,
   "metadata": {
    "collapsed": false
   },
   "outputs": [
    {
     "data": {
      "text/plain": [
       "   element          Mass_x0020__x005B_m_x002F_z_x005D_   Polarity        \n",
       " Length:38187       Min.   :150.0                      Length:38187      \n",
       " Class :character   1st Qu.:380.3                      Class :character  \n",
       " Mode  :character   Median :496.3                      Mode  :character  \n",
       "                    Mean   :518.8                                        \n",
       "                    3rd Qu.:639.2                                        \n",
       "                    Max.   :999.1                                        \n",
       "   Intensity         Start_x0020__x005B_min_x005D_ End_x0020__x005B_min_x005D_\n",
       " Min.   :5.000e+04   Min.   : 0.000                Min.   : 0.1534            \n",
       " 1st Qu.:1.611e+05   1st Qu.: 4.127                1st Qu.: 4.4269            \n",
       " Median :3.455e+05   Median : 6.542                Median : 6.8416            \n",
       " Mean   :3.083e+06   Mean   : 6.933                Mean   : 7.2328            \n",
       " 3rd Qu.:9.677e+05   3rd Qu.:10.064                3rd Qu.:10.3640            \n",
       " Max.   :1.920e+09   Max.   :14.209                Max.   :14.5090            "
      ]
     },
     "metadata": {},
     "output_type": "display_data"
    }
   ],
   "source": [
    "#this is the inclusion list xml file (must be in the working directory or the Jupyter directory)\n",
    "xml = 'InclusionList.xml'\n",
    "\n",
    "#Convert the input xml file to a data table.\n",
    "d = data.table(xmlToDataFrame(xml))\n",
    "\n",
    "#first row is empty \n",
    "dt = d[2:nrow(d),]\n",
    "\n",
    "#xml data are strings so convert to numeric\n",
    "dt$Mass_x0020__x005B_m_x002F_z_x005D_ = as.numeric(dt$Mass_x0020__x005B_m_x002F_z_x005D_)\n",
    "dt$Intensity = as.numeric(dt$Intensity)\n",
    "dt$Start_x0020__x005B_min_x005D_ = as.numeric(dt$Start_x0020__x005B_min_x005D_)\n",
    "dt$End_x0020__x005B_min_x005D_ = as.numeric(dt$End_x0020__x005B_min_x005D_)\n",
    "\n",
    "#summary stats\n",
    "summary(dt)"
   ]
  },
  {
   "cell_type": "markdown",
   "metadata": {},
   "source": [
    "### Print first 5 rows of the inclusion list table"
   ]
  },
  {
   "cell_type": "code",
   "execution_count": 3,
   "metadata": {
    "collapsed": false
   },
   "outputs": [
    {
     "data": {
      "text/html": [
       "<table>\n",
       "<thead><tr><th scope=col>element</th><th scope=col>Mass_x0020__x005B_m_x002F_z_x005D_</th><th scope=col>Polarity</th><th scope=col>Intensity</th><th scope=col>Start_x0020__x005B_min_x005D_</th><th scope=col>End_x0020__x005B_min_x005D_</th></tr></thead>\n",
       "<tbody>\n",
       "\t<tr><td>NA        </td><td>150.0259  </td><td>Positive  </td><td>80912720  </td><td> 9.6897605</td><td> 9.9897605</td></tr>\n",
       "\t<tr><td>NA        </td><td>150.0262  </td><td>Positive  </td><td>15036221  </td><td>12.4291090</td><td>12.7291090</td></tr>\n",
       "\t<tr><td>NA        </td><td>150.0264  </td><td>Positive  </td><td>23258225  </td><td> 9.5715800</td><td> 9.8715800</td></tr>\n",
       "\t<tr><td>NA        </td><td>150.0581  </td><td>Positive  </td><td> 1619148  </td><td> 0.2858179</td><td> 0.5858179</td></tr>\n",
       "\t<tr><td>NA        </td><td>150.0628  </td><td>Positive  </td><td>  938172  </td><td> 7.9672331</td><td> 8.2672331</td></tr>\n",
       "</tbody>\n",
       "</table>\n"
      ],
      "text/latex": [
       "\\begin{tabular}{r|llllll}\n",
       " element & Mass\\_x0020\\_\\_x005B\\_m\\_x002F\\_z\\_x005D\\_ & Polarity & Intensity & Start\\_x0020\\_\\_x005B\\_min\\_x005D\\_ & End\\_x0020\\_\\_x005B\\_min\\_x005D\\_\\\\\n",
       "\\hline\n",
       "\t NA         & 150.0259   & Positive   & 80912720   &  9.6897605 &  9.9897605\\\\\n",
       "\t NA         & 150.0262   & Positive   & 15036221   & 12.4291090 & 12.7291090\\\\\n",
       "\t NA         & 150.0264   & Positive   & 23258225   &  9.5715800 &  9.8715800\\\\\n",
       "\t NA         & 150.0581   & Positive   &  1619148   &  0.2858179 &  0.5858179\\\\\n",
       "\t NA         & 150.0628   & Positive   &   938172   &  7.9672331 &  8.2672331\\\\\n",
       "\\end{tabular}\n"
      ],
      "text/plain": [
       "  element Mass_x0020__x005B_m_x002F_z_x005D_ Polarity Intensity\n",
       "1 NA      150.0259                           Positive 80912720 \n",
       "2 NA      150.0262                           Positive 15036221 \n",
       "3 NA      150.0264                           Positive 23258225 \n",
       "4 NA      150.0581                           Positive  1619148 \n",
       "5 NA      150.0628                           Positive   938172 \n",
       "  Start_x0020__x005B_min_x005D_ End_x0020__x005B_min_x005D_\n",
       "1  9.6897605                     9.9897605                 \n",
       "2 12.4291090                    12.7291090                 \n",
       "3  9.5715800                     9.8715800                 \n",
       "4  0.2858179                     0.5858179                 \n",
       "5  7.9672331                     8.2672331                 "
      ]
     },
     "metadata": {},
     "output_type": "display_data"
    }
   ],
   "source": [
    "dt[1:5,]"
   ]
  },
  {
   "cell_type": "markdown",
   "metadata": {},
   "source": [
    "### Plot 4 plots in the same window. Features are filtered based on the RT bin and intensities"
   ]
  },
  {
   "cell_type": "code",
   "execution_count": 4,
   "metadata": {
    "collapsed": false
   },
   "outputs": [
    {
     "data": {
      "image/png": "[encoded data removed]",
      "text/plain": [
       "plot without title"
      ]
     },
     "metadata": {},
     "output_type": "display_data"
    }
   ],
   "source": [
    "#Plot the features as a fucntion of quartiles and bins\n",
    "par(mfrow=c(2,2))\n",
    "\n",
    "t <- GetFeatureDistribution(dt,.3)\n",
    "barplot(t$Features,ylab = 'Total #Features',xlab = 'RT', col = 'blue')\n",
    "\n",
    "test <- dt[which(dt$Intensity > 9.677e5)]\n",
    "t <- GetFeatureDistribution(test,.3)\n",
    "barplot(t$Features,ylab = 'Q4 Features',xlab = 'RT', col = 'red')\n",
    "\n",
    "test <- dt[which(dt$Intensity < 9.677e5 & dt$Intensity > median(dt$Intensity))]\n",
    "t <- GetFeatureDistribution(test,.3)\n",
    "barplot(t$Features,ylab = 'Q3 Features',xlab = 'RT', col = 'green')\n",
    "\n",
    "test <- dt[which(dt$Intensity < 1.611e5)]\n",
    "t <- GetFeatureDistribution(test,.3)\n",
    "barplot(t$Features,ylab = 'Q1 Features',xlab = 'RT', col = 'purple')"
   ]
  },
  {
   "cell_type": "markdown",
   "metadata": {
    "collapsed": true
   },
   "source": [
    "## Library Analysis Functions"
   ]
  },
  {
   "cell_type": "code",
   "execution_count": 21,
   "metadata": {
    "collapsed": true
   },
   "outputs": [],
   "source": [
    "ComputeMassError <- function(theoreticalMass,experimentalMass){\n",
    "  return (((experimentalMass - theoreticalMass) / theoreticalMass) * 1e6);\n",
    "}\n",
    "\n",
    "Process <- function(scans,targets){\n",
    "  \n",
    "  #create result table\n",
    "  resTable <- data.table(\n",
    "    Compound = character(),\n",
    "    Mz = numeric(),\n",
    "    RT = numeric(),\n",
    "    ScanNumber = numeric())\n",
    "  \n",
    "  for(i in 1:nrow(targets)){\n",
    "    \n",
    "    for(j in 1:nrow(scans)){\n",
    "\n",
    "      err = ComputeMassError(targets[i]$X.M.H..,scans[j]$PrecursorMz)\n",
    "      \n",
    "      # if the error is < 10 ppm then add to the list\n",
    "      if(abs(err) < 5){\n",
    "       \n",
    "         t <- data.table(\n",
    "          Compound =as.character(targets[i]$metabolite),\n",
    "          Mz = scans[j]$PrecursorMz,\n",
    "          RT = scans[j]$RetentioTime,\n",
    "          ScanNumber =as.numeric(scans[j]$ScanNumber))\n",
    "        \n",
    "        if(nrow(resTable) == 0){\n",
    "          resTable = t\n",
    "          break\n",
    "        }\n",
    "        else{\n",
    "          resTable <- rbind(resTable,t)\n",
    "          break\n",
    "        }\n",
    "      }\n",
    "    }\n",
    "  }\n",
    "  return (resTable)\n",
    "}\n"
   ]
  },
  {
   "cell_type": "markdown",
   "metadata": {},
   "source": [
    "### Convert raw file to JSON and process"
   ]
  },
  {
   "cell_type": "code",
   "execution_count": 6,
   "metadata": {
    "collapsed": false
   },
   "outputs": [],
   "source": [
    "library(jsonlite)\n",
    "library(data.table)\n",
    "\n",
    "\n",
    "#convert raw file to json\n",
    "system(\"C:/R/Jupyter/filereader/Thermo.RawFileExtractor.Console.exe  -d C:/R/Jupyter/data -o 2\")\n",
    "json <- \"C:/R/Jupyter/data/StandardsID4thQuartile.json\"\n",
    "\n",
    "#target files\n",
    "targets <- \"C:/R/Jupyter/libtargets.csv\"\n",
    "\n",
    "#read json data\n",
    "scans <- data.table(fromJSON(json))\n",
    "targets <- data.table(read.csv(targets))\n",
    "\n",
    "#set as numeric data\n",
    "targets$X.M.H.. <- as.numeric(targets$X.M.H..)\n",
    "targets$RT..min. <- as.numeric(targets$RT..min.)"
   ]
  },
  {
   "cell_type": "code",
   "execution_count": 7,
   "metadata": {
    "collapsed": false
   },
   "outputs": [
    {
     "data": {
      "text/html": [
       "<table>\n",
       "<thead><tr><th scope=col>metabolite</th><th scope=col>class</th><th scope=col>Chemical.Formula</th><th scope=col>RT..min.</th><th scope=col>X.M.H..</th></tr></thead>\n",
       "<tbody>\n",
       "\t<tr><td>ornithine              </td><td>aminoacid              </td><td>C5H12N2O2              </td><td> 0.77                  </td><td>133.0972               </td></tr>\n",
       "\t<tr><td>glycine                </td><td>aminoacid              </td><td>C2H5NO2                </td><td> 0.83                  </td><td> 76.0393               </td></tr>\n",
       "\t<tr><td>aspartic acid          </td><td>aminoacid              </td><td>C4H7NO4                </td><td> 0.85                  </td><td>134.0448               </td></tr>\n",
       "\t<tr><td>creatinine             </td><td>aminoacid derivative   </td><td>C4H7N3O                </td><td> 0.90                  </td><td>114.0662               </td></tr>\n",
       "\t<tr><td>uracil                 </td><td>nucleobase             </td><td>C4H4N2O2               </td><td> 1.28                  </td><td>113.0346               </td></tr>\n",
       "\t<tr><td>methionine             </td><td>aminoacid              </td><td>C5H11NO2S              </td><td> 1.44                  </td><td>150.0583               </td></tr>\n",
       "\t<tr><td>nicotinamide           </td><td>vitamin                </td><td>C6H6N2O                </td><td> 1.63                  </td><td>123.0552               </td></tr>\n",
       "\t<tr><td>isoleucine             </td><td>aminoacid              </td><td>C6H13NO2               </td><td> 2.19                  </td><td>132.1019               </td></tr>\n",
       "\t<tr><td>leucine                </td><td>aminoacid              </td><td>C6H13NO2               </td><td> 2.33                  </td><td>132.1019               </td></tr>\n",
       "\t<tr><td>adenosine              </td><td>nucleoside             </td><td>C10H13N5O4             </td><td> 2.49                  </td><td>268.1040               </td></tr>\n",
       "\t<tr><td>phenylalanine          </td><td>aminoacid              </td><td>C9H11NO2               </td><td> 3.46                  </td><td>166.0863               </td></tr>\n",
       "\t<tr><td>kynurenic acid         </td><td>organic acid           </td><td>C10H7NO3               </td><td> 6.01                  </td><td>190.0498               </td></tr>\n",
       "\t<tr><td>folic acid             </td><td>vitamin                </td><td>C19H19N7O6             </td><td> 6.66                  </td><td>442.1470               </td></tr>\n",
       "\t<tr><td>biotin                 </td><td>vitamin                </td><td>C10H16N2O3S            </td><td> 7.58                  </td><td>245.0954               </td></tr>\n",
       "\t<tr><td>riboflavin             </td><td>vitamin                </td><td>C17H20N4O6             </td><td> 7.92                  </td><td>377.1451               </td></tr>\n",
       "\t<tr><td>liothyronine           </td><td>thyroid hormone        </td><td>C15H12I3NO4            </td><td> 9.60                  </td><td>651.7971               </td></tr>\n",
       "\t<tr><td>thyroxine              </td><td>thyroid hormone        </td><td>C15H11I4NO4            </td><td>10.02                  </td><td>777.6945               </td></tr>\n",
       "\t<tr><td>17?-hydroxyprogesterone</td><td>steroid                </td><td>C21H30O3               </td><td>10.50                  </td><td>331.2265               </td></tr>\n",
       "\t<tr><td>taurocholic acid       </td><td>bile acid              </td><td>C26H45NO7S             </td><td>10.82                  </td><td>516.2986               </td></tr>\n",
       "\t<tr><td>glycodeoxycholate      </td><td>bile acid              </td><td>C26H43NO5              </td><td>11.42                  </td><td>450.3210               </td></tr>\n",
       "\t<tr><td>18:1 LysoPC            </td><td>lipid                  </td><td>C26H52NO7P             </td><td>12.75                  </td><td>522.3554               </td></tr>\n",
       "</tbody>\n",
       "</table>\n"
      ],
      "text/latex": [
       "\\begin{tabular}{r|lllll}\n",
       " metabolite & class & Chemical.Formula & RT..min. & X.M.H..\\\\\n",
       "\\hline\n",
       "\t ornithine               & aminoacid               & C5H12N2O2               &  0.77                   & 133.0972               \\\\\n",
       "\t glycine                 & aminoacid               & C2H5NO2                 &  0.83                   &  76.0393               \\\\\n",
       "\t aspartic acid           & aminoacid               & C4H7NO4                 &  0.85                   & 134.0448               \\\\\n",
       "\t creatinine              & aminoacid derivative    & C4H7N3O                 &  0.90                   & 114.0662               \\\\\n",
       "\t uracil                  & nucleobase              & C4H4N2O2                &  1.28                   & 113.0346               \\\\\n",
       "\t methionine              & aminoacid               & C5H11NO2S               &  1.44                   & 150.0583               \\\\\n",
       "\t nicotinamide            & vitamin                 & C6H6N2O                 &  1.63                   & 123.0552               \\\\\n",
       "\t isoleucine              & aminoacid               & C6H13NO2                &  2.19                   & 132.1019               \\\\\n",
       "\t leucine                 & aminoacid               & C6H13NO2                &  2.33                   & 132.1019               \\\\\n",
       "\t adenosine               & nucleoside              & C10H13N5O4              &  2.49                   & 268.1040               \\\\\n",
       "\t phenylalanine           & aminoacid               & C9H11NO2                &  3.46                   & 166.0863               \\\\\n",
       "\t kynurenic acid          & organic acid            & C10H7NO3                &  6.01                   & 190.0498               \\\\\n",
       "\t folic acid              & vitamin                 & C19H19N7O6              &  6.66                   & 442.1470               \\\\\n",
       "\t biotin                  & vitamin                 & C10H16N2O3S             &  7.58                   & 245.0954               \\\\\n",
       "\t riboflavin              & vitamin                 & C17H20N4O6              &  7.92                   & 377.1451               \\\\\n",
       "\t liothyronine            & thyroid hormone         & C15H12I3NO4             &  9.60                   & 651.7971               \\\\\n",
       "\t thyroxine               & thyroid hormone         & C15H11I4NO4             & 10.02                   & 777.6945               \\\\\n",
       "\t 17?-hydroxyprogesterone & steroid                 & C21H30O3                & 10.50                   & 331.2265               \\\\\n",
       "\t taurocholic acid        & bile acid               & C26H45NO7S              & 10.82                   & 516.2986               \\\\\n",
       "\t glycodeoxycholate       & bile acid               & C26H43NO5               & 11.42                   & 450.3210               \\\\\n",
       "\t 18:1 LysoPC             & lipid                   & C26H52NO7P              & 12.75                   & 522.3554               \\\\\n",
       "\\end{tabular}\n"
      ],
      "text/plain": [
       "   metabolite              class                Chemical.Formula RT..min.\n",
       "1  ornithine               aminoacid            C5H12N2O2         0.77   \n",
       "2  glycine                 aminoacid            C2H5NO2           0.83   \n",
       "3  aspartic acid           aminoacid            C4H7NO4           0.85   \n",
       "4  creatinine              aminoacid derivative C4H7N3O           0.90   \n",
       "5  uracil                  nucleobase           C4H4N2O2          1.28   \n",
       "6  methionine              aminoacid            C5H11NO2S         1.44   \n",
       "7  nicotinamide            vitamin              C6H6N2O           1.63   \n",
       "8  isoleucine              aminoacid            C6H13NO2          2.19   \n",
       "9  leucine                 aminoacid            C6H13NO2          2.33   \n",
       "10 adenosine               nucleoside           C10H13N5O4        2.49   \n",
       "11 phenylalanine           aminoacid            C9H11NO2          3.46   \n",
       "12 kynurenic acid          organic acid         C10H7NO3          6.01   \n",
       "13 folic acid              vitamin              C19H19N7O6        6.66   \n",
       "14 biotin                  vitamin              C10H16N2O3S       7.58   \n",
       "15 riboflavin              vitamin              C17H20N4O6        7.92   \n",
       "16 liothyronine            thyroid hormone      C15H12I3NO4       9.60   \n",
       "17 thyroxine               thyroid hormone      C15H11I4NO4      10.02   \n",
       "18 17?-hydroxyprogesterone steroid              C21H30O3         10.50   \n",
       "19 taurocholic acid        bile acid            C26H45NO7S       10.82   \n",
       "20 glycodeoxycholate       bile acid            C26H43NO5        11.42   \n",
       "21 18:1 LysoPC             lipid                C26H52NO7P       12.75   \n",
       "   X.M.H.. \n",
       "1  133.0972\n",
       "2   76.0393\n",
       "3  134.0448\n",
       "4  114.0662\n",
       "5  113.0346\n",
       "6  150.0583\n",
       "7  123.0552\n",
       "8  132.1019\n",
       "9  132.1019\n",
       "10 268.1040\n",
       "11 166.0863\n",
       "12 190.0498\n",
       "13 442.1470\n",
       "14 245.0954\n",
       "15 377.1451\n",
       "16 651.7971\n",
       "17 777.6945\n",
       "18 331.2265\n",
       "19 516.2986\n",
       "20 450.3210\n",
       "21 522.3554"
      ]
     },
     "metadata": {},
     "output_type": "display_data"
    }
   ],
   "source": [
    "targets"
   ]
  },
  {
   "cell_type": "markdown",
   "metadata": {},
   "source": [
    "### Compounds Detected"
   ]
  },
  {
   "cell_type": "code",
   "execution_count": 20,
   "metadata": {
    "collapsed": false
   },
   "outputs": [
    {
     "data": {
      "text/html": [
       "<table>\n",
       "<thead><tr><th scope=col>Compound</th><th scope=col>Mz</th><th scope=col>RT</th><th scope=col>ScanNumber</th></tr></thead>\n",
       "<tbody>\n",
       "\t<tr><td>ornithine     </td><td>133.0972      </td><td> 0.77         </td><td> 390          </td></tr>\n",
       "\t<tr><td>glycine       </td><td> 76.0393      </td><td> 0.83         </td><td> 420          </td></tr>\n",
       "\t<tr><td>creatinine    </td><td>114.0662      </td><td> 0.90         </td><td> 450          </td></tr>\n",
       "\t<tr><td>uracil        </td><td>113.0346      </td><td> 1.28         </td><td> 605          </td></tr>\n",
       "\t<tr><td>methionine    </td><td>150.0583      </td><td> 1.44         </td><td> 685          </td></tr>\n",
       "\t<tr><td>nicotinamide  </td><td>123.0552      </td><td> 1.63         </td><td> 713          </td></tr>\n",
       "\t<tr><td>isoleucine    </td><td>132.1019      </td><td> 2.19         </td><td> 829          </td></tr>\n",
       "\t<tr><td>leucine       </td><td>132.1019      </td><td> 2.33         </td><td> 829          </td></tr>\n",
       "\t<tr><td>adenosine     </td><td>268.1040      </td><td> 2.49         </td><td> 801          </td></tr>\n",
       "\t<tr><td>phenylalanine </td><td>166.0863      </td><td> 3.46         </td><td> 940          </td></tr>\n",
       "\t<tr><td>kynurenic acid</td><td>190.0498      </td><td> 6.01         </td><td>1102          </td></tr>\n",
       "\t<tr><td>folic acid    </td><td>442.1470      </td><td> 6.66         </td><td>1019          </td></tr>\n",
       "\t<tr><td>biotin        </td><td>245.0954      </td><td> 7.58         </td><td>1133          </td></tr>\n",
       "\t<tr><td>riboflavin    </td><td>377.1451      </td><td> 7.92         </td><td>1132          </td></tr>\n",
       "\t<tr><td>liothyronine  </td><td>651.7971      </td><td> 9.60         </td><td>1404          </td></tr>\n",
       "\t<tr><td>thyroxine     </td><td>777.6945      </td><td>10.02         </td><td>1457          </td></tr>\n",
       "</tbody>\n",
       "</table>\n"
      ],
      "text/latex": [
       "\\begin{tabular}{r|llll}\n",
       " Compound & Mz & RT & ScanNumber\\\\\n",
       "\\hline\n",
       "\t ornithine      & 133.0972       &  0.77          &  390          \\\\\n",
       "\t glycine        &  76.0393       &  0.83          &  420          \\\\\n",
       "\t creatinine     & 114.0662       &  0.90          &  450          \\\\\n",
       "\t uracil         & 113.0346       &  1.28          &  605          \\\\\n",
       "\t methionine     & 150.0583       &  1.44          &  685          \\\\\n",
       "\t nicotinamide   & 123.0552       &  1.63          &  713          \\\\\n",
       "\t isoleucine     & 132.1019       &  2.19          &  829          \\\\\n",
       "\t leucine        & 132.1019       &  2.33          &  829          \\\\\n",
       "\t adenosine      & 268.1040       &  2.49          &  801          \\\\\n",
       "\t phenylalanine  & 166.0863       &  3.46          &  940          \\\\\n",
       "\t kynurenic acid & 190.0498       &  6.01          & 1102          \\\\\n",
       "\t folic acid     & 442.1470       &  6.66          & 1019          \\\\\n",
       "\t biotin         & 245.0954       &  7.58          & 1133          \\\\\n",
       "\t riboflavin     & 377.1451       &  7.92          & 1132          \\\\\n",
       "\t liothyronine   & 651.7971       &  9.60          & 1404          \\\\\n",
       "\t thyroxine      & 777.6945       & 10.02          & 1457          \\\\\n",
       "\\end{tabular}\n"
      ],
      "text/plain": [
       "   Compound       Mz       RT    ScanNumber\n",
       "1  ornithine      133.0972  0.77  390      \n",
       "2  glycine         76.0393  0.83  420      \n",
       "3  creatinine     114.0662  0.90  450      \n",
       "4  uracil         113.0346  1.28  605      \n",
       "5  methionine     150.0583  1.44  685      \n",
       "6  nicotinamide   123.0552  1.63  713      \n",
       "7  isoleucine     132.1019  2.19  829      \n",
       "8  leucine        132.1019  2.33  829      \n",
       "9  adenosine      268.1040  2.49  801      \n",
       "10 phenylalanine  166.0863  3.46  940      \n",
       "11 kynurenic acid 190.0498  6.01 1102      \n",
       "12 folic acid     442.1470  6.66 1019      \n",
       "13 biotin         245.0954  7.58 1133      \n",
       "14 riboflavin     377.1451  7.92 1132      \n",
       "15 liothyronine   651.7971  9.60 1404      \n",
       "16 thyroxine      777.6945 10.02 1457      "
      ]
     },
     "metadata": {},
     "output_type": "display_data"
    }
   ],
   "source": [
    "\n",
    "r <- Process(scans,targets)\n",
    "r"
   ]
  },
  {
   "cell_type": "code",
   "execution_count": 18,
   "metadata": {
    "collapsed": false
   },
   "outputs": [
    {
     "data": {
      "text/html": [
       "16"
      ],
      "text/latex": [
       "16"
      ],
      "text/markdown": [
       "16"
      ],
      "text/plain": [
       "[1] 16"
      ]
     },
     "metadata": {},
     "output_type": "display_data"
    }
   ],
   "source": [
    "nrow(r)"
   ]
  },
  {
   "cell_type": "code",
   "execution_count": null,
   "metadata": {
    "collapsed": true
   },
   "outputs": [],
   "source": []
  }
 ],
 "metadata": {
  "kernelspec": {
   "display_name": "R",
   "language": "R",
   "name": "ir"
  },
  "language_info": {
   "codemirror_mode": "r",
   "file_extension": ".r",
   "mimetype": "text/x-r-source",
   "name": "R",
   "pygments_lexer": "r",
   "version": "3.3.2"
  }
 },
 "nbformat": 4,
 "nbformat_minor": 2
}
