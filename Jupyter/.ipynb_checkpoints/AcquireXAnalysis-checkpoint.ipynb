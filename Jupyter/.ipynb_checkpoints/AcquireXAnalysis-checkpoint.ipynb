{
 "cells": [
  {
   "cell_type": "markdown",
   "metadata": {},
   "source": [
    "## Introduction\n",
    "### AcquireX analysis scripts to evaluate feature distribution, feature mapping, background ion detection and other useful plots"
   ]
  },
  {
   "cell_type": "code",
   "execution_count": 9,
   "metadata": {
    "collapsed": true
   },
   "outputs": [],
   "source": [
    "# Load the packages/source scripts required to read XML files and process the data.\n",
    "library(XML)\n",
    "library(methods)\n",
    "library(data.table)\n",
    "source('AcquireXFunctions.R')"
   ]
  },
  {
   "cell_type": "markdown",
   "metadata": {},
   "source": [
    "### Load xml file and convert it to a data table in R"
   ]
  },
  {
   "cell_type": "code",
   "execution_count": 10,
   "metadata": {
    "collapsed": false
   },
   "outputs": [
    {
     "data": {
      "text/plain": [
       "   element          Mass_x0020__x005B_m_x002F_z_x005D_   Polarity        \n",
       " Length:38187       Min.   :150.0                      Length:38187      \n",
       " Class :character   1st Qu.:380.3                      Class :character  \n",
       " Mode  :character   Median :496.3                      Mode  :character  \n",
       "                    Mean   :518.8                                        \n",
       "                    3rd Qu.:639.2                                        \n",
       "                    Max.   :999.1                                        \n",
       "   Intensity         Start_x0020__x005B_min_x005D_ End_x0020__x005B_min_x005D_\n",
       " Min.   :5.000e+04   Min.   : 0.000                Min.   : 0.1534            \n",
       " 1st Qu.:1.611e+05   1st Qu.: 4.127                1st Qu.: 4.4269            \n",
       " Median :3.455e+05   Median : 6.542                Median : 6.8416            \n",
       " Mean   :3.083e+06   Mean   : 6.933                Mean   : 7.2328            \n",
       " 3rd Qu.:9.677e+05   3rd Qu.:10.064                3rd Qu.:10.3640            \n",
       " Max.   :1.920e+09   Max.   :14.209                Max.   :14.5090            "
      ]
     },
     "metadata": {},
     "output_type": "display_data"
    }
   ],
   "source": [
    "#this is the inclusion list xml file (must be in the working directory or the Jupyter directory)\n",
    "xml = 'InclusionList.xml'\n",
    "\n",
    "#Convert the input xml file to a data table.\n",
    "d = data.table(xmlToDataFrame(xml))\n",
    "\n",
    "#first row is empty \n",
    "dt = d[2:nrow(d),]\n",
    "\n",
    "#xml data are strings so convert to numeric\n",
    "dt$Mass_x0020__x005B_m_x002F_z_x005D_ = as.numeric(dt$Mass_x0020__x005B_m_x002F_z_x005D_)\n",
    "dt$Intensity = as.numeric(dt$Intensity)\n",
    "dt$Start_x0020__x005B_min_x005D_ = as.numeric(dt$Start_x0020__x005B_min_x005D_)\n",
    "dt$End_x0020__x005B_min_x005D_ = as.numeric(dt$End_x0020__x005B_min_x005D_)\n",
    "\n",
    "#summary stats\n",
    "summary(dt)"
   ]
  },
  {
   "cell_type": "markdown",
   "metadata": {},
   "source": [
    "### Print first 5 rows of the inclusion list table"
   ]
  },
  {
   "cell_type": "code",
   "execution_count": 13,
   "metadata": {
    "collapsed": false
   },
   "outputs": [
    {
     "data": {
      "text/html": [
       "<table>\n",
       "<thead><tr><th scope=col>element</th><th scope=col>Mass_x0020__x005B_m_x002F_z_x005D_</th><th scope=col>Polarity</th><th scope=col>Intensity</th><th scope=col>Start_x0020__x005B_min_x005D_</th><th scope=col>End_x0020__x005B_min_x005D_</th></tr></thead>\n",
       "<tbody>\n",
       "\t<tr><td>NA        </td><td>150.0259  </td><td>Positive  </td><td>80912720  </td><td> 9.6897605</td><td> 9.9897605</td></tr>\n",
       "\t<tr><td>NA        </td><td>150.0262  </td><td>Positive  </td><td>15036221  </td><td>12.4291090</td><td>12.7291090</td></tr>\n",
       "\t<tr><td>NA        </td><td>150.0264  </td><td>Positive  </td><td>23258225  </td><td> 9.5715800</td><td> 9.8715800</td></tr>\n",
       "\t<tr><td>NA        </td><td>150.0581  </td><td>Positive  </td><td> 1619148  </td><td> 0.2858179</td><td> 0.5858179</td></tr>\n",
       "\t<tr><td>NA        </td><td>150.0628  </td><td>Positive  </td><td>  938172  </td><td> 7.9672331</td><td> 8.2672331</td></tr>\n",
       "</tbody>\n",
       "</table>\n"
      ],
      "text/latex": [
       "\\begin{tabular}{r|llllll}\n",
       " element & Mass\\_x0020\\_\\_x005B\\_m\\_x002F\\_z\\_x005D\\_ & Polarity & Intensity & Start\\_x0020\\_\\_x005B\\_min\\_x005D\\_ & End\\_x0020\\_\\_x005B\\_min\\_x005D\\_\\\\\n",
       "\\hline\n",
       "\t NA         & 150.0259   & Positive   & 80912720   &  9.6897605 &  9.9897605\\\\\n",
       "\t NA         & 150.0262   & Positive   & 15036221   & 12.4291090 & 12.7291090\\\\\n",
       "\t NA         & 150.0264   & Positive   & 23258225   &  9.5715800 &  9.8715800\\\\\n",
       "\t NA         & 150.0581   & Positive   &  1619148   &  0.2858179 &  0.5858179\\\\\n",
       "\t NA         & 150.0628   & Positive   &   938172   &  7.9672331 &  8.2672331\\\\\n",
       "\\end{tabular}\n"
      ],
      "text/plain": [
       "  element Mass_x0020__x005B_m_x002F_z_x005D_ Polarity Intensity\n",
       "1 NA      150.0259                           Positive 80912720 \n",
       "2 NA      150.0262                           Positive 15036221 \n",
       "3 NA      150.0264                           Positive 23258225 \n",
       "4 NA      150.0581                           Positive  1619148 \n",
       "5 NA      150.0628                           Positive   938172 \n",
       "  Start_x0020__x005B_min_x005D_ End_x0020__x005B_min_x005D_\n",
       "1  9.6897605                     9.9897605                 \n",
       "2 12.4291090                    12.7291090                 \n",
       "3  9.5715800                     9.8715800                 \n",
       "4  0.2858179                     0.5858179                 \n",
       "5  7.9672331                     8.2672331                 "
      ]
     },
     "metadata": {},
     "output_type": "display_data"
    }
   ],
   "source": [
    "dt[1:5,]"
   ]
  },
  {
   "cell_type": "markdown",
   "metadata": {},
   "source": [
    "### Plot 4 plots in the same window. Features are filtered based on the RT bin and intensities"
   ]
  },
  {
   "cell_type": "code",
   "execution_count": 11,
   "metadata": {
    "collapsed": false
   },
   "outputs": [
    {
     "data": {
      "image/png": "[encoded data removed]",
      "text/plain": [
       "plot without title"
      ]
     },
     "metadata": {},
     "output_type": "display_data"
    }
   ],
   "source": [
    "#Plot the features as a fucntion of quartiles and bins\n",
    "par(mfrow=c(2,2))\n",
    "\n",
    "t <- GetFeatureDistribution(dt,.3)\n",
    "barplot(t$Features,ylab = 'Total #Features',xlab = 'RT', col = 'blue')\n",
    "\n",
    "test <- dt[which(dt$Intensity > 9.677e5)]\n",
    "t <- GetFeatureDistribution(test,.3)\n",
    "barplot(t$Features,ylab = 'Q4 Features',xlab = 'RT', col = 'red')\n",
    "\n",
    "test <- dt[which(dt$Intensity < 9.677e5 & dt$Intensity > median(dt$Intensity))]\n",
    "t <- GetFeatureDistribution(test,.3)\n",
    "barplot(t$Features,ylab = 'Q3 Features',xlab = 'RT', col = 'green')\n",
    "\n",
    "test <- dt[which(dt$Intensity < 1.611e5)]\n",
    "t <- GetFeatureDistribution(test,.3)\n",
    "barplot(t$Features,ylab = 'Q1 Features',xlab = 'RT', col = 'purple')"
   ]
  }
 ],
 "metadata": {
  "kernelspec": {
   "display_name": "R",
   "language": "R",
   "name": "ir"
  },
  "language_info": {
   "codemirror_mode": "r",
   "file_extension": ".r",
   "mimetype": "text/x-r-source",
   "name": "R",
   "pygments_lexer": "r",
   "version": "3.3.2"
  }
 },
 "nbformat": 4,
 "nbformat_minor": 2
}
